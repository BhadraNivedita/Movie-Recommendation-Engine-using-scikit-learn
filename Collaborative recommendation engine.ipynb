{
 "cells": [
  {
   "cell_type": "code",
   "execution_count": 2,
   "id": "d01f5866",
   "metadata": {},
   "outputs": [
    {
     "name": "stdout",
     "output_type": "stream",
     "text": [
      "Dataset ml-100k could not be found. Do you want to download it? [Y/n] Y\n",
      "Trying to download dataset from https://files.grouplens.org/datasets/movielens/ml-100k.zip...\n",
      "Done! Dataset ml-100k has been saved to /home/nivedita/.surprise_data/ml-100k\n",
      "RMSE: 0.9448\n",
      "RMSE: 0.9448382731769842\n",
      "Top 10 recommendations for user 196:\n",
      "Movie ID: 285, Estimated Rating: 4.631847513385745\n",
      "Movie ID: 1007, Estimated Rating: 4.300821303065936\n",
      "Movie ID: 340, Estimated Rating: 4.168310938107142\n",
      "Movie ID: 70, Estimated Rating: 4.107157669739873\n",
      "Movie ID: 116, Estimated Rating: 4.044308955683736\n",
      "Movie ID: 202, Estimated Rating: 3.9040587089075105\n",
      "Movie ID: 94, Estimated Rating: 3.5003901450918797\n",
      "Movie ID: 13, Estimated Rating: 3.4868617702122973\n",
      "Movie ID: 762, Estimated Rating: 3.4838248659534896\n",
      "Movie ID: 1118, Estimated Rating: 3.4382297853111403\n"
     ]
    }
   ],
   "source": [
    "\n",
    "\n",
    "# Load the dataset\n",
    "data = Dataset.load_builtin('ml-100k')\n",
    "df = pd.DataFrame(data.raw_ratings, columns=['user', 'item', 'rating', 'timestamp'])\n",
    "\n",
    "# Load the dataset using the Reader class\n",
    "reader = Reader(line_format='user item rating timestamp', sep='\\t')\n",
    "data = Dataset.load_from_df(df[['user', 'item', 'rating']], reader)\n",
    "\n",
    "# Split the dataset into training and test sets\n",
    "trainset, testset = train_test_split(data, test_size=0.25)\n",
    "\n",
    "# Use the SVD algorithm\n",
    "algo = SVD()\n",
    "\n",
    "# Train the algorithm on the training set\n",
    "algo.fit(trainset)\n",
    "\n",
    "# Test the algorithm on the test set\n",
    "predictions = algo.test(testset)\n",
    "\n",
    "# Compute and print RMSE\n",
    "print(\"RMSE:\", accuracy.rmse(predictions))\n",
    "\n",
    "\n",
    "# Print the recommended items for a specific user\n",
    "user_id = '196'  # Example user ID\n",
    "print(f\"Top 10 recommendations for user {user_id}:\")\n",
    "for iid, est in top_n_recommendations[user_id]:\n",
    "    print(f\"Movie ID: {iid}, Estimated Rating: {est}\")\n"
   ]
  },
  {
   "cell_type": "code",
   "execution_count": null,
   "id": "9c12884e",
   "metadata": {},
   "outputs": [],
   "source": []
  },
  {
   "cell_type": "code",
   "execution_count": null,
   "id": "23a1405a",
   "metadata": {},
   "outputs": [],
   "source": [
    "Step 1: Load and Prepare the Data\n",
    "We'll use the surprise library to load and handle the MovieLens dataset."
   ]
  },
  {
   "cell_type": "code",
   "execution_count": null,
   "id": "953de80e",
   "metadata": {},
   "outputs": [],
   "source": [
    "import pandas as pd\n",
    "from surprise import Dataset, Reader, SVD, accuracy\n",
    "from surprise.model_selection import train_test_split"
   ]
  },
  {
   "cell_type": "code",
   "execution_count": null,
   "id": "a0582216",
   "metadata": {},
   "outputs": [],
   "source": [
    "Step 2: Build the Recommendation Engine\n",
    "We'll use a collaborative filtering approach called Singular Value Decomposition (SVD).\n",
    "\n"
   ]
  },
  {
   "cell_type": "code",
   "execution_count": null,
   "id": "cc6fe35e",
   "metadata": {},
   "outputs": [],
   "source": []
  },
  {
   "cell_type": "code",
   "execution_count": null,
   "id": "48a4f373",
   "metadata": {},
   "outputs": [],
   "source": [
    "Step 3: Make Recommendations\n",
    "To make recommendations for a specific user, we can use the trained model to predict ratings for movies the user hasn't rated yet."
   ]
  },
  {
   "cell_type": "code",
   "execution_count": null,
   "id": "e619015d",
   "metadata": {},
   "outputs": [],
   "source": [
    "# Function to get top n recommendations\n",
    "def get_top_n_recommendations(predictions, n=10):\n",
    "    # First map the predictions to each user\n",
    "    top_n = {}\n",
    "    for uid, iid, true_r, est, _ in predictions:\n",
    "        if uid not in top_n:\n",
    "            top_n[uid] = []\n",
    "        top_n[uid].append((iid, est))\n",
    "\n",
    "    # Then sort the predictions for each user and retrieve the n highest ones\n",
    "    for uid, user_ratings in top_n.items():\n",
    "        user_ratings.sort(key=lambda x: x[1], reverse=True)\n",
    "        top_n[uid] = user_ratings[:n]\n",
    "\n",
    "    return top_n\n",
    "\n",
    "# Get top 10 recommendations for each user\n",
    "top_n_recommendations = get_top_n_recommendations(predictions, n=10)\n"
   ]
  }
 ],
 "metadata": {
  "kernelspec": {
   "display_name": "Python 3 (ipykernel)",
   "language": "python",
   "name": "python3"
  },
  "language_info": {
   "codemirror_mode": {
    "name": "ipython",
    "version": 3
   },
   "file_extension": ".py",
   "mimetype": "text/x-python",
   "name": "python",
   "nbconvert_exporter": "python",
   "pygments_lexer": "ipython3",
   "version": "3.10.9"
  }
 },
 "nbformat": 4,
 "nbformat_minor": 5
}
